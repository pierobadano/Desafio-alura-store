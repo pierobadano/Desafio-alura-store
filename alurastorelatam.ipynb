{
  "nbformat": 4,
  "nbformat_minor": 0,
  "metadata": {
    "colab": {
      "provenance": [],
      "include_colab_link": true
    },
    "kernelspec": {
      "name": "python3",
      "display_name": "Python 3"
    },
    "language_info": {
      "name": "python"
    }
  },
  "cells": [
    {
      "cell_type": "markdown",
      "metadata": {
        "id": "view-in-github",
        "colab_type": "text"
      },
      "source": [
        "<a href=\"https://colab.research.google.com/github/pierobadano/Desafio-alura-store/blob/main/alurastorelatam.ipynb\" target=\"_parent\"><img src=\"https://colab.research.google.com/assets/colab-badge.svg\" alt=\"Open In Colab\"/></a>"
      ]
    },
    {
      "cell_type": "markdown",
      "source": [
        "### Importación de datos\n",
        "\n"
      ],
      "metadata": {
        "id": "RhEdWd9YUR6H"
      }
    },
    {
      "cell_type": "code",
      "source": [],
      "metadata": {
        "id": "nSqhxzh3Kd70"
      },
      "execution_count": 48,
      "outputs": []
    },
    {
      "cell_type": "code",
      "execution_count": 49,
      "metadata": {
        "colab": {
          "base_uri": "https://localhost:8080/",
          "height": 0
        },
        "id": "T3EvaeQ_INIL",
        "outputId": "cecae035-59e7-45a5-bc75-1bb1616178a4"
      },
      "outputs": [
        {
          "output_type": "execute_result",
          "data": {
            "text/plain": [
              "            Producto Categoría del Producto    Precio  Costo de envío  \\\n",
              "0  Asistente virtual           Electrónicos  164300.0          6900.0   \n",
              "1    Mesa de comedor                Muebles  192300.0          8400.0   \n",
              "2      Juego de mesa               Juguetes  209600.0         15900.0   \n",
              "3         Microondas      Electrodomésticos  757500.0         41000.0   \n",
              "4   Silla de oficina                Muebles  335200.0         20200.0   \n",
              "\n",
              "  Fecha de Compra         Vendedor Lugar de Compra  Calificación  \\\n",
              "0      16/01/2021      Pedro Gomez          Bogotá             4   \n",
              "1      18/05/2022  Beatriz Morales        Medellín             1   \n",
              "2      15/03/2021   Juan Fernandez       Cartagena             1   \n",
              "3      03/05/2022   Juan Fernandez            Cali             4   \n",
              "4      07/11/2020    Maria Alfonso        Medellín             5   \n",
              "\n",
              "       Método de pago  Cantidad de cuotas       lat       lon  \n",
              "0  Tarjeta de crédito                   8   4.60971 -74.08175  \n",
              "1  Tarjeta de crédito                   4   6.25184 -75.56359  \n",
              "2  Tarjeta de crédito                   1  10.39972 -75.51444  \n",
              "3               Nequi                   1   3.43722 -76.52250  \n",
              "4               Nequi                   1   6.25184 -75.56359  "
            ],
            "text/html": [
              "\n",
              "  <div id=\"df-fc6ddb2a-49fd-46c9-957b-9e7331519174\" class=\"colab-df-container\">\n",
              "    <div>\n",
              "<style scoped>\n",
              "    .dataframe tbody tr th:only-of-type {\n",
              "        vertical-align: middle;\n",
              "    }\n",
              "\n",
              "    .dataframe tbody tr th {\n",
              "        vertical-align: top;\n",
              "    }\n",
              "\n",
              "    .dataframe thead th {\n",
              "        text-align: right;\n",
              "    }\n",
              "</style>\n",
              "<table border=\"1\" class=\"dataframe\">\n",
              "  <thead>\n",
              "    <tr style=\"text-align: right;\">\n",
              "      <th></th>\n",
              "      <th>Producto</th>\n",
              "      <th>Categoría del Producto</th>\n",
              "      <th>Precio</th>\n",
              "      <th>Costo de envío</th>\n",
              "      <th>Fecha de Compra</th>\n",
              "      <th>Vendedor</th>\n",
              "      <th>Lugar de Compra</th>\n",
              "      <th>Calificación</th>\n",
              "      <th>Método de pago</th>\n",
              "      <th>Cantidad de cuotas</th>\n",
              "      <th>lat</th>\n",
              "      <th>lon</th>\n",
              "    </tr>\n",
              "  </thead>\n",
              "  <tbody>\n",
              "    <tr>\n",
              "      <th>0</th>\n",
              "      <td>Asistente virtual</td>\n",
              "      <td>Electrónicos</td>\n",
              "      <td>164300.0</td>\n",
              "      <td>6900.0</td>\n",
              "      <td>16/01/2021</td>\n",
              "      <td>Pedro Gomez</td>\n",
              "      <td>Bogotá</td>\n",
              "      <td>4</td>\n",
              "      <td>Tarjeta de crédito</td>\n",
              "      <td>8</td>\n",
              "      <td>4.60971</td>\n",
              "      <td>-74.08175</td>\n",
              "    </tr>\n",
              "    <tr>\n",
              "      <th>1</th>\n",
              "      <td>Mesa de comedor</td>\n",
              "      <td>Muebles</td>\n",
              "      <td>192300.0</td>\n",
              "      <td>8400.0</td>\n",
              "      <td>18/05/2022</td>\n",
              "      <td>Beatriz Morales</td>\n",
              "      <td>Medellín</td>\n",
              "      <td>1</td>\n",
              "      <td>Tarjeta de crédito</td>\n",
              "      <td>4</td>\n",
              "      <td>6.25184</td>\n",
              "      <td>-75.56359</td>\n",
              "    </tr>\n",
              "    <tr>\n",
              "      <th>2</th>\n",
              "      <td>Juego de mesa</td>\n",
              "      <td>Juguetes</td>\n",
              "      <td>209600.0</td>\n",
              "      <td>15900.0</td>\n",
              "      <td>15/03/2021</td>\n",
              "      <td>Juan Fernandez</td>\n",
              "      <td>Cartagena</td>\n",
              "      <td>1</td>\n",
              "      <td>Tarjeta de crédito</td>\n",
              "      <td>1</td>\n",
              "      <td>10.39972</td>\n",
              "      <td>-75.51444</td>\n",
              "    </tr>\n",
              "    <tr>\n",
              "      <th>3</th>\n",
              "      <td>Microondas</td>\n",
              "      <td>Electrodomésticos</td>\n",
              "      <td>757500.0</td>\n",
              "      <td>41000.0</td>\n",
              "      <td>03/05/2022</td>\n",
              "      <td>Juan Fernandez</td>\n",
              "      <td>Cali</td>\n",
              "      <td>4</td>\n",
              "      <td>Nequi</td>\n",
              "      <td>1</td>\n",
              "      <td>3.43722</td>\n",
              "      <td>-76.52250</td>\n",
              "    </tr>\n",
              "    <tr>\n",
              "      <th>4</th>\n",
              "      <td>Silla de oficina</td>\n",
              "      <td>Muebles</td>\n",
              "      <td>335200.0</td>\n",
              "      <td>20200.0</td>\n",
              "      <td>07/11/2020</td>\n",
              "      <td>Maria Alfonso</td>\n",
              "      <td>Medellín</td>\n",
              "      <td>5</td>\n",
              "      <td>Nequi</td>\n",
              "      <td>1</td>\n",
              "      <td>6.25184</td>\n",
              "      <td>-75.56359</td>\n",
              "    </tr>\n",
              "  </tbody>\n",
              "</table>\n",
              "</div>\n",
              "    <div class=\"colab-df-buttons\">\n",
              "\n",
              "  <div class=\"colab-df-container\">\n",
              "    <button class=\"colab-df-convert\" onclick=\"convertToInteractive('df-fc6ddb2a-49fd-46c9-957b-9e7331519174')\"\n",
              "            title=\"Convert this dataframe to an interactive table.\"\n",
              "            style=\"display:none;\">\n",
              "\n",
              "  <svg xmlns=\"http://www.w3.org/2000/svg\" height=\"24px\" viewBox=\"0 -960 960 960\">\n",
              "    <path d=\"M120-120v-720h720v720H120Zm60-500h600v-160H180v160Zm220 220h160v-160H400v160Zm0 220h160v-160H400v160ZM180-400h160v-160H180v160Zm440 0h160v-160H620v160ZM180-180h160v-160H180v160Zm440 0h160v-160H620v160Z\"/>\n",
              "  </svg>\n",
              "    </button>\n",
              "\n",
              "  <style>\n",
              "    .colab-df-container {\n",
              "      display:flex;\n",
              "      gap: 12px;\n",
              "    }\n",
              "\n",
              "    .colab-df-convert {\n",
              "      background-color: #E8F0FE;\n",
              "      border: none;\n",
              "      border-radius: 50%;\n",
              "      cursor: pointer;\n",
              "      display: none;\n",
              "      fill: #1967D2;\n",
              "      height: 32px;\n",
              "      padding: 0 0 0 0;\n",
              "      width: 32px;\n",
              "    }\n",
              "\n",
              "    .colab-df-convert:hover {\n",
              "      background-color: #E2EBFA;\n",
              "      box-shadow: 0px 1px 2px rgba(60, 64, 67, 0.3), 0px 1px 3px 1px rgba(60, 64, 67, 0.15);\n",
              "      fill: #174EA6;\n",
              "    }\n",
              "\n",
              "    .colab-df-buttons div {\n",
              "      margin-bottom: 4px;\n",
              "    }\n",
              "\n",
              "    [theme=dark] .colab-df-convert {\n",
              "      background-color: #3B4455;\n",
              "      fill: #D2E3FC;\n",
              "    }\n",
              "\n",
              "    [theme=dark] .colab-df-convert:hover {\n",
              "      background-color: #434B5C;\n",
              "      box-shadow: 0px 1px 3px 1px rgba(0, 0, 0, 0.15);\n",
              "      filter: drop-shadow(0px 1px 2px rgba(0, 0, 0, 0.3));\n",
              "      fill: #FFFFFF;\n",
              "    }\n",
              "  </style>\n",
              "\n",
              "    <script>\n",
              "      const buttonEl =\n",
              "        document.querySelector('#df-fc6ddb2a-49fd-46c9-957b-9e7331519174 button.colab-df-convert');\n",
              "      buttonEl.style.display =\n",
              "        google.colab.kernel.accessAllowed ? 'block' : 'none';\n",
              "\n",
              "      async function convertToInteractive(key) {\n",
              "        const element = document.querySelector('#df-fc6ddb2a-49fd-46c9-957b-9e7331519174');\n",
              "        const dataTable =\n",
              "          await google.colab.kernel.invokeFunction('convertToInteractive',\n",
              "                                                    [key], {});\n",
              "        if (!dataTable) return;\n",
              "\n",
              "        const docLinkHtml = 'Like what you see? Visit the ' +\n",
              "          '<a target=\"_blank\" href=https://colab.research.google.com/notebooks/data_table.ipynb>data table notebook</a>'\n",
              "          + ' to learn more about interactive tables.';\n",
              "        element.innerHTML = '';\n",
              "        dataTable['output_type'] = 'display_data';\n",
              "        await google.colab.output.renderOutput(dataTable, element);\n",
              "        const docLink = document.createElement('div');\n",
              "        docLink.innerHTML = docLinkHtml;\n",
              "        element.appendChild(docLink);\n",
              "      }\n",
              "    </script>\n",
              "  </div>\n",
              "\n",
              "\n",
              "    <div id=\"df-a1c4e041-18ca-4c51-b99c-fea0c05bb24f\">\n",
              "      <button class=\"colab-df-quickchart\" onclick=\"quickchart('df-a1c4e041-18ca-4c51-b99c-fea0c05bb24f')\"\n",
              "                title=\"Suggest charts\"\n",
              "                style=\"display:none;\">\n",
              "\n",
              "<svg xmlns=\"http://www.w3.org/2000/svg\" height=\"24px\"viewBox=\"0 0 24 24\"\n",
              "     width=\"24px\">\n",
              "    <g>\n",
              "        <path d=\"M19 3H5c-1.1 0-2 .9-2 2v14c0 1.1.9 2 2 2h14c1.1 0 2-.9 2-2V5c0-1.1-.9-2-2-2zM9 17H7v-7h2v7zm4 0h-2V7h2v10zm4 0h-2v-4h2v4z\"/>\n",
              "    </g>\n",
              "</svg>\n",
              "      </button>\n",
              "\n",
              "<style>\n",
              "  .colab-df-quickchart {\n",
              "      --bg-color: #E8F0FE;\n",
              "      --fill-color: #1967D2;\n",
              "      --hover-bg-color: #E2EBFA;\n",
              "      --hover-fill-color: #174EA6;\n",
              "      --disabled-fill-color: #AAA;\n",
              "      --disabled-bg-color: #DDD;\n",
              "  }\n",
              "\n",
              "  [theme=dark] .colab-df-quickchart {\n",
              "      --bg-color: #3B4455;\n",
              "      --fill-color: #D2E3FC;\n",
              "      --hover-bg-color: #434B5C;\n",
              "      --hover-fill-color: #FFFFFF;\n",
              "      --disabled-bg-color: #3B4455;\n",
              "      --disabled-fill-color: #666;\n",
              "  }\n",
              "\n",
              "  .colab-df-quickchart {\n",
              "    background-color: var(--bg-color);\n",
              "    border: none;\n",
              "    border-radius: 50%;\n",
              "    cursor: pointer;\n",
              "    display: none;\n",
              "    fill: var(--fill-color);\n",
              "    height: 32px;\n",
              "    padding: 0;\n",
              "    width: 32px;\n",
              "  }\n",
              "\n",
              "  .colab-df-quickchart:hover {\n",
              "    background-color: var(--hover-bg-color);\n",
              "    box-shadow: 0 1px 2px rgba(60, 64, 67, 0.3), 0 1px 3px 1px rgba(60, 64, 67, 0.15);\n",
              "    fill: var(--button-hover-fill-color);\n",
              "  }\n",
              "\n",
              "  .colab-df-quickchart-complete:disabled,\n",
              "  .colab-df-quickchart-complete:disabled:hover {\n",
              "    background-color: var(--disabled-bg-color);\n",
              "    fill: var(--disabled-fill-color);\n",
              "    box-shadow: none;\n",
              "  }\n",
              "\n",
              "  .colab-df-spinner {\n",
              "    border: 2px solid var(--fill-color);\n",
              "    border-color: transparent;\n",
              "    border-bottom-color: var(--fill-color);\n",
              "    animation:\n",
              "      spin 1s steps(1) infinite;\n",
              "  }\n",
              "\n",
              "  @keyframes spin {\n",
              "    0% {\n",
              "      border-color: transparent;\n",
              "      border-bottom-color: var(--fill-color);\n",
              "      border-left-color: var(--fill-color);\n",
              "    }\n",
              "    20% {\n",
              "      border-color: transparent;\n",
              "      border-left-color: var(--fill-color);\n",
              "      border-top-color: var(--fill-color);\n",
              "    }\n",
              "    30% {\n",
              "      border-color: transparent;\n",
              "      border-left-color: var(--fill-color);\n",
              "      border-top-color: var(--fill-color);\n",
              "      border-right-color: var(--fill-color);\n",
              "    }\n",
              "    40% {\n",
              "      border-color: transparent;\n",
              "      border-right-color: var(--fill-color);\n",
              "      border-top-color: var(--fill-color);\n",
              "    }\n",
              "    60% {\n",
              "      border-color: transparent;\n",
              "      border-right-color: var(--fill-color);\n",
              "    }\n",
              "    80% {\n",
              "      border-color: transparent;\n",
              "      border-right-color: var(--fill-color);\n",
              "      border-bottom-color: var(--fill-color);\n",
              "    }\n",
              "    90% {\n",
              "      border-color: transparent;\n",
              "      border-bottom-color: var(--fill-color);\n",
              "    }\n",
              "  }\n",
              "</style>\n",
              "\n",
              "      <script>\n",
              "        async function quickchart(key) {\n",
              "          const quickchartButtonEl =\n",
              "            document.querySelector('#' + key + ' button');\n",
              "          quickchartButtonEl.disabled = true;  // To prevent multiple clicks.\n",
              "          quickchartButtonEl.classList.add('colab-df-spinner');\n",
              "          try {\n",
              "            const charts = await google.colab.kernel.invokeFunction(\n",
              "                'suggestCharts', [key], {});\n",
              "          } catch (error) {\n",
              "            console.error('Error during call to suggestCharts:', error);\n",
              "          }\n",
              "          quickchartButtonEl.classList.remove('colab-df-spinner');\n",
              "          quickchartButtonEl.classList.add('colab-df-quickchart-complete');\n",
              "        }\n",
              "        (() => {\n",
              "          let quickchartButtonEl =\n",
              "            document.querySelector('#df-a1c4e041-18ca-4c51-b99c-fea0c05bb24f button');\n",
              "          quickchartButtonEl.style.display =\n",
              "            google.colab.kernel.accessAllowed ? 'block' : 'none';\n",
              "        })();\n",
              "      </script>\n",
              "    </div>\n",
              "\n",
              "    </div>\n",
              "  </div>\n"
            ],
            "application/vnd.google.colaboratory.intrinsic+json": {
              "type": "dataframe",
              "variable_name": "tienda",
              "summary": "{\n  \"name\": \"tienda\",\n  \"rows\": 2359,\n  \"fields\": [\n    {\n      \"column\": \"Producto\",\n      \"properties\": {\n        \"dtype\": \"category\",\n        \"num_unique_values\": 51,\n        \"samples\": [\n          \"Guitarra ac\\u00fastica\",\n          \"Bal\\u00f3n de baloncesto\",\n          \"Smartwatch\"\n        ],\n        \"semantic_type\": \"\",\n        \"description\": \"\"\n      }\n    },\n    {\n      \"column\": \"Categor\\u00eda del Producto\",\n      \"properties\": {\n        \"dtype\": \"category\",\n        \"num_unique_values\": 8,\n        \"samples\": [\n          \"Muebles\",\n          \"Deportes y diversi\\u00f3n\",\n          \"Electr\\u00f3nicos\"\n        ],\n        \"semantic_type\": \"\",\n        \"description\": \"\"\n      }\n    },\n    {\n      \"column\": \"Precio\",\n      \"properties\": {\n        \"dtype\": \"number\",\n        \"std\": 614686.7653873172,\n        \"min\": 7600.0,\n        \"max\": 2977000.0,\n        \"num_unique_values\": 1937,\n        \"samples\": [\n          2499400.0,\n          14800.0,\n          80500.0\n        ],\n        \"semantic_type\": \"\",\n        \"description\": \"\"\n      }\n    },\n    {\n      \"column\": \"Costo de env\\u00edo\",\n      \"properties\": {\n        \"dtype\": \"number\",\n        \"std\": 32860.0017825605,\n        \"min\": 0.0,\n        \"max\": 160800.0,\n        \"num_unique_values\": 753,\n        \"samples\": [\n          117800.0,\n          54700.0,\n          45600.0\n        ],\n        \"semantic_type\": \"\",\n        \"description\": \"\"\n      }\n    },\n    {\n      \"column\": \"Fecha de Compra\",\n      \"properties\": {\n        \"dtype\": \"object\",\n        \"num_unique_values\": 1018,\n        \"samples\": [\n          \"15/09/2022\",\n          \"03/06/2020\",\n          \"06/11/2021\"\n        ],\n        \"semantic_type\": \"\",\n        \"description\": \"\"\n      }\n    },\n    {\n      \"column\": \"Vendedor\",\n      \"properties\": {\n        \"dtype\": \"category\",\n        \"num_unique_values\": 14,\n        \"samples\": [\n          \"Juliana Costa\",\n          \"Mariana Herrera\",\n          \"Pedro Gomez\"\n        ],\n        \"semantic_type\": \"\",\n        \"description\": \"\"\n      }\n    },\n    {\n      \"column\": \"Lugar de Compra\",\n      \"properties\": {\n        \"dtype\": \"category\",\n        \"num_unique_values\": 19,\n        \"samples\": [\n          \"Bogot\\u00e1\",\n          \"Pereira\",\n          \"Neiva\"\n        ],\n        \"semantic_type\": \"\",\n        \"description\": \"\"\n      }\n    },\n    {\n      \"column\": \"Calificaci\\u00f3n\",\n      \"properties\": {\n        \"dtype\": \"number\",\n        \"std\": 1,\n        \"min\": 1,\n        \"max\": 5,\n        \"num_unique_values\": 5,\n        \"samples\": [\n          1,\n          2,\n          5\n        ],\n        \"semantic_type\": \"\",\n        \"description\": \"\"\n      }\n    },\n    {\n      \"column\": \"M\\u00e9todo de pago\",\n      \"properties\": {\n        \"dtype\": \"category\",\n        \"num_unique_values\": 4,\n        \"samples\": [\n          \"Nequi\",\n          \"Tarjeta de d\\u00e9bito\",\n          \"Tarjeta de cr\\u00e9dito\"\n        ],\n        \"semantic_type\": \"\",\n        \"description\": \"\"\n      }\n    },\n    {\n      \"column\": \"Cantidad de cuotas\",\n      \"properties\": {\n        \"dtype\": \"number\",\n        \"std\": 2,\n        \"min\": 1,\n        \"max\": 24,\n        \"num_unique_values\": 15,\n        \"samples\": [\n          7,\n          14,\n          8\n        ],\n        \"semantic_type\": \"\",\n        \"description\": \"\"\n      }\n    },\n    {\n      \"column\": \"lat\",\n      \"properties\": {\n        \"dtype\": \"number\",\n        \"std\": 2.2874452492678627,\n        \"min\": -4.21528,\n        \"max\": 11.54444,\n        \"num_unique_values\": 19,\n        \"samples\": [\n          4.60971,\n          4.81333,\n          2.9273\n        ],\n        \"semantic_type\": \"\",\n        \"description\": \"\"\n      }\n    },\n    {\n      \"column\": \"lon\",\n      \"properties\": {\n        \"dtype\": \"number\",\n        \"std\": 1.2178272727088486,\n        \"min\": -77.28111,\n        \"max\": -67.9239,\n        \"num_unique_values\": 19,\n        \"samples\": [\n          -74.08175,\n          -75.69611,\n          -75.28189\n        ],\n        \"semantic_type\": \"\",\n        \"description\": \"\"\n      }\n    }\n  ]\n}"
            }
          },
          "metadata": {},
          "execution_count": 49
        }
      ],
      "source": [
        "import pandas as pd\n",
        "\n",
        "url = \"https://raw.githubusercontent.com/alura-es-cursos/challenge1-data-science-latam/refs/heads/main/base-de-datos-challenge1-latam/tienda_1%20.csv\"\n",
        "url2 = \"https://raw.githubusercontent.com/alura-es-cursos/challenge1-data-science-latam/refs/heads/main/base-de-datos-challenge1-latam/tienda_2.csv\"\n",
        "url3 = \"https://raw.githubusercontent.com/alura-es-cursos/challenge1-data-science-latam/refs/heads/main/base-de-datos-challenge1-latam/tienda_3.csv\"\n",
        "url4 = \"https://raw.githubusercontent.com/alura-es-cursos/challenge1-data-science-latam/refs/heads/main/base-de-datos-challenge1-latam/tienda_4.csv\"\n",
        "\n",
        "tienda = pd.read_csv(url)\n",
        "tienda2 = pd.read_csv(url2)\n",
        "tienda3 = pd.read_csv(url3)\n",
        "tienda4 = pd.read_csv(url4)\n",
        "\n",
        "tienda.head()"
      ]
    },
    {
      "cell_type": "markdown",
      "source": [
        "#1. Análisis de facturación\n",
        "\n"
      ],
      "metadata": {
        "id": "X62IW3KFUIYm"
      }
    },
    {
      "cell_type": "code",
      "source": [
        "Ingresos_totales_tienda1= sum(tienda[\"Precio\"])\n",
        "Ingresos_totales_tienda2= sum(tienda2[\"Precio\"])\n",
        "Ingresos_totales_tienda3= sum(tienda3[\"Precio\"])\n",
        "Ingresos_totales_tienda4= sum(tienda4[\"Precio\"])\n",
        "print(type(Ingresos_totales_tienda1))\n",
        "print(f\"El total de ingresos de la tienda 1 fue de {Ingresos_totales_tienda1}\")\n",
        "print(f\"El total de ingresos de la tienda 2 fue de {Ingresos_totales_tienda2}\")\n",
        "print(f\"El total de ingresos de la tienda 3 fue de {Ingresos_totales_tienda3}\")\n",
        "print(f\"El total de ingresos de la tienda 4 fue de {Ingresos_totales_tienda4}\")\n"
      ],
      "metadata": {
        "id": "KDyr8E71V3m-",
        "collapsed": true,
        "colab": {
          "base_uri": "https://localhost:8080/"
        },
        "outputId": "7a15a2f5-8186-4944-810d-4643b35c50af"
      },
      "execution_count": 50,
      "outputs": [
        {
          "output_type": "stream",
          "name": "stdout",
          "text": [
            "<class 'float'>\n",
            "El total de ingresos de la tienda 1 fue de 1150880400.0\n",
            "El total de ingresos de la tienda 2 fue de 1116343500.0\n",
            "El total de ingresos de la tienda 3 fue de 1098019600.0\n",
            "El total de ingresos de la tienda 4 fue de 1038375700.0\n"
          ]
        }
      ]
    },
    {
      "cell_type": "markdown",
      "source": [
        "# 2. Ventas por categoría"
      ],
      "metadata": {
        "id": "2V_vcAPzWZmR"
      }
    },
    {
      "cell_type": "markdown",
      "source": [
        "<p>Desglose: VendidosXCategoria almacena una Serie de Pandas. Esta Serie resume los datos agrupando las ventas por 'Categoría del Producto' y luego contando cuántas ventas hay para cada categoría utilizando el método count() en la columna 'Producto'. Cada valor en la Serie representa el total de ventas para la categoría correspondiente en el índice. Este conteo funciona bajo el supuesto de que cada fila en el DataFrame original representa una única venta.\""
      ],
      "metadata": {
        "id": "vYkuAJZsvewo"
      }
    },
    {
      "cell_type": "code",
      "source": [
        "VendidosXCategoria  = tienda.groupby([\"Categoría del Producto\"])[\"Producto\"].count()\n",
        "VendidosXCategoria2 = tienda2.groupby([\"Categoría del Producto\"])[\"Producto\"].count()\n",
        "VendidosXCategoria3 = tienda3.groupby([\"Categoría del Producto\"])[\"Producto\"].count()\n",
        "VendidosXCategoria4 = tienda4.groupby([\"Categoría del Producto\"])[\"Producto\"].count()\n",
        "\n",
        "CategoriaMasVendida1 = VendidosXCategoria.idxmax()\n",
        "CategoriaMasVendida2 = VendidosXCategoria2.idxmax()\n",
        "CategoriaMasVendida3 = VendidosXCategoria3.idxmax()\n",
        "CategoriaMasVendida4 = VendidosXCategoria4.idxmax()\n",
        "CantidadVendida1 = VendidosXCategoria.max()\n",
        "CantidadVendida2 = VendidosXCategoria2.max()\n",
        "CantidadVendida3 = VendidosXCategoria3.max()\n",
        "CantidadVendida4 = VendidosXCategoria4.max()\n",
        "\n",
        "print(f\"La categoria mas popular en la tienda 1 es {CategoriaMasVendida1} con un total de {CantidadVendida1} ventas\")\n",
        "print(f\"La categoria mas popular en la tienda 2 es {CategoriaMasVendida2} con un total de {CantidadVendida2} ventas\")\n",
        "print(f\"La categoria mas popular en la tienda 3 es {CategoriaMasVendida3} con un total de {CantidadVendida3} ventas\")\n",
        "print(f\"La categoria mas popular en la tienda 4 es {CategoriaMasVendida4} con un total de {CantidadVendida4} ventas\")"
      ],
      "metadata": {
        "id": "A34YupIuYhfF",
        "colab": {
          "base_uri": "https://localhost:8080/"
        },
        "outputId": "85637848-5475-40b2-8c80-c9bd9b15d75e"
      },
      "execution_count": 51,
      "outputs": [
        {
          "output_type": "stream",
          "name": "stdout",
          "text": [
            "La categoria mas popular en la tienda 1 es Muebles con un total de 465 ventas\n",
            "La categoria mas popular en la tienda 2 es Muebles con un total de 442 ventas\n",
            "La categoria mas popular en la tienda 3 es Muebles con un total de 499 ventas\n",
            "La categoria mas popular en la tienda 4 es Muebles con un total de 480 ventas\n"
          ]
        }
      ]
    },
    {
      "cell_type": "markdown",
      "source": [
        "# 3. Calificación promedio de la tienda\n"
      ],
      "metadata": {
        "id": "Rq6tU_xSY3jk"
      }
    },
    {
      "cell_type": "markdown",
      "source": [
        "Desglose: la funcion .mean() es un metodo propio de la libreria pandas que opera sobre el dataframe, en la columna indicada, suma todos los valores de la columna y divide por el total de filas de datos"
      ],
      "metadata": {
        "id": "rVOmGPw215g_"
      }
    },
    {
      "cell_type": "code",
      "source": [
        "promedioTienda1 = tienda[\"Calificación\"].mean()\n",
        "promedioTienda2 = tienda2[\"Calificación\"].mean()\n",
        "promedioTienda3 = tienda3[\"Calificación\"].mean()\n",
        "promedioTienda4 = tienda4[\"Calificación\"].mean()\n",
        "\n",
        "print(f\"La satisfacion promedio de los cliente en la tienda 1 es: {promedioTienda1:.3f}\")\n",
        "print(f\"La satisfacion promedio de los cliente en la tienda 2 es: {promedioTienda2:.3f}\")\n",
        "print(f\"La satisfacion promedio de los cliente en la tienda 3 es: {promedioTienda3:.3f}\")\n",
        "print(f\"La satisfacion promedio de los cliente en la tienda 4 es: {promedioTienda4:.3f}\")\n"
      ],
      "metadata": {
        "id": "bh3jjjJwY5MU",
        "colab": {
          "base_uri": "https://localhost:8080/"
        },
        "outputId": "0be193c8-88e9-4dd3-ed1e-9a48b08c9fbe"
      },
      "execution_count": 52,
      "outputs": [
        {
          "output_type": "stream",
          "name": "stdout",
          "text": [
            "La satisfacion promedio de los cliente en la tienda 1 es: 3.977\n",
            "La satisfacion promedio de los cliente en la tienda 2 es: 4.037\n",
            "La satisfacion promedio de los cliente en la tienda 3 es: 4.048\n",
            "La satisfacion promedio de los cliente en la tienda 4 es: 3.996\n"
          ]
        }
      ]
    },
    {
      "cell_type": "markdown",
      "source": [
        "# 4. Productos más y menos vendidos"
      ],
      "metadata": {
        "id": "DmNp1KPBZCm-"
      }
    },
    {
      "cell_type": "markdown",
      "source": [
        "Desglose: seguimos igual que antes, esta vez agrupamos por tipo de producto y contamos cuantas veces aparece ese producto en el reporte de la tienda, en este caso indica cuantas veces se vendio el producto"
      ],
      "metadata": {
        "id": "ji_qbM1HAD_9"
      }
    },
    {
      "cell_type": "code",
      "source": [
        "VentasXProductoTienda1 = tienda.groupby([\"Producto\"])[\"Producto\"].count()\n",
        "VentasXProductoTienda2 = tienda2.groupby([\"Producto\"])[\"Producto\"].count()\n",
        "VentasXProductoTienda3 = tienda3.groupby([\"Producto\"])[\"Producto\"].count()\n",
        "VentasXProductoTienda4 = tienda4.groupby([\"Producto\"])[\"Producto\"].count()\n",
        "\n",
        "VentasProductoMasVendidoTienda1 = VentasXProductoTienda1.max()\n",
        "VentasProductoMasVendidoTienda2 = VentasXProductoTienda2.max()\n",
        "VentasProductoMasVendidoTienda3 = VentasXProductoTienda3.max()\n",
        "VentasProductoMasVendidoTienda4 = VentasXProductoTienda4.max()\n",
        "\n",
        "VentasProductoMenosVendidoTienda1 = VentasXProductoTienda1.min()\n",
        "VentasProductoMenosVendidoTienda2 = VentasXProductoTienda2.min()\n",
        "VentasProductoMenosVendidoTienda3= VentasXProductoTienda3.min()\n",
        "VentasProductoMenosVendidoTienda4 = VentasXProductoTienda4.min()\n",
        "\n",
        "\n",
        "print(f\"El producto mas vendido en la tienda 1 es '{VentasXProductoTienda1.idxmax()}' con un total de {VentasProductoMasVendidoTienda1} ventas\")\n",
        "print(f\"El producto mas vendido en la tienda 2 es '{VentasXProductoTienda2.idxmax()}' con un total de {VentasProductoMasVendidoTienda2} ventas\")\n",
        "print(f\"El producto mas vendido en la tienda 3 es '{VentasXProductoTienda3.idxmax()}' con un total de {VentasProductoMasVendidoTienda3} ventas\")\n",
        "print(f\"El producto mas vendido en la tienda 4 es '{VentasXProductoTienda4.idxmax()}' con un total de {VentasProductoMasVendidoTienda4} ventas\")\n",
        "print()\n",
        "print(f\"El producto menos vendido en la tienda 1 es '{VentasXProductoTienda1.idxmin()}' con un total de {VentasProductoMenosVendidoTienda1} ventas\")\n",
        "print(f\"El producto menos vendido en la tienda 2 es '{VentasXProductoTienda2.idxmin()}' con un total de {VentasProductoMenosVendidoTienda2} ventas\")\n",
        "print(f\"El producto menos vendido en la tienda 3 es '{VentasXProductoTienda3.idxmin()}' con un total de {VentasProductoMenosVendidoTienda3} ventas\")\n",
        "print(f\"El producto menos vendido en la tienda 4 es '{VentasXProductoTienda4.idxmin()}' con un total de {VentasProductoMenosVendidoTienda4} ventas\")\n"
      ],
      "metadata": {
        "id": "qoyjqijQZHfF",
        "colab": {
          "base_uri": "https://localhost:8080/"
        },
        "outputId": "2b24b1d7-2f6f-4dae-c87d-49994da5ba7f"
      },
      "execution_count": 53,
      "outputs": [
        {
          "output_type": "stream",
          "name": "stdout",
          "text": [
            "El producto mas vendido en la tienda 1 es 'Armario' con un total de 60 ventas\n",
            "El producto mas vendido en la tienda 2 es 'Iniciando en programación' con un total de 65 ventas\n",
            "El producto mas vendido en la tienda 3 es 'Kit de bancas' con un total de 57 ventas\n",
            "El producto mas vendido en la tienda 4 es 'Cama box' con un total de 62 ventas\n",
            "\n",
            "El producto menos vendido en la tienda 1 es 'Auriculares con micrófono' con un total de 33 ventas\n",
            "El producto menos vendido en la tienda 2 es 'Juego de mesa' con un total de 32 ventas\n",
            "El producto menos vendido en la tienda 3 es 'Bloques de construcción' con un total de 35 ventas\n",
            "El producto menos vendido en la tienda 4 es 'Guitarra eléctrica' con un total de 33 ventas\n"
          ]
        }
      ]
    },
    {
      "cell_type": "markdown",
      "source": [
        "# 5. Envío promedio por tienda"
      ],
      "metadata": {
        "id": "Fl0cGi3bZKqU"
      }
    },
    {
      "cell_type": "markdown",
      "source": [
        "Desglose: cuatno hacemos tienda[\"Costo de envio\"] tomamos la columna costo de envio del dataframe, al aplicarle .mean() hacemos el promedio de la columna que contiene valores numericos, en este caso costos de envio"
      ],
      "metadata": {
        "id": "GbLw5UKTCl-o"
      }
    },
    {
      "cell_type": "code",
      "source": [
        "costoEnvioPromedioTienda1 = tienda[\"Costo de envío\"].mean()\n",
        "costoEnvioPromedioTienda2 = tienda2[\"Costo de envío\"].mean()\n",
        "costoEnvioPromedioTienda3 = tienda3[\"Costo de envío\"].mean()\n",
        "costoEnvioPromedioTienda4 = tienda4[\"Costo de envío\"].mean()\n",
        "\n",
        "print(f\"Costo de envio promedio tienda 1: {costoEnvioPromedioTienda1:.3f}\")\n",
        "print(f\"Costo de envio promedio tienda 2: {costoEnvioPromedioTienda2:.3f}\")\n",
        "print(f\"Costo de envio promedio tienda 3: {costoEnvioPromedioTienda3:.3f}\")\n",
        "print(f\"Costo de envio promedio tienda 4: {costoEnvioPromedioTienda4:.3f}\")"
      ],
      "metadata": {
        "id": "S2JeaCykZNy9",
        "colab": {
          "base_uri": "https://localhost:8080/"
        },
        "outputId": "4fae5b13-407c-4166-d753-e063e55b5e6d"
      },
      "execution_count": 54,
      "outputs": [
        {
          "output_type": "stream",
          "name": "stdout",
          "text": [
            "Costo de envio promedio tienda 1: 26018.610\n",
            "Costo de envio promedio tienda 2: 25216.236\n",
            "Costo de envio promedio tienda 3: 24805.680\n",
            "Costo de envio promedio tienda 4: 23459.457\n"
          ]
        }
      ]
    },
    {
      "cell_type": "markdown",
      "source": [
        "# VISUALIZACIÓN\n",
        "A continuación se realizaran diversos graficos para la visualizacion de datos que pueden resultar importantes para Juan, al momento de tomar una decisión"
      ],
      "metadata": {
        "id": "YsLgaWxEpWie"
      }
    },
    {
      "cell_type": "markdown",
      "source": [
        "Organizo. Opté por crear un diccionario de diccionarios con toda la informacion util de cada tienda"
      ],
      "metadata": {
        "id": "-nX-yZUmHK8y"
      }
    },
    {
      "cell_type": "code",
      "source": [
        "datos_tienda = {\n",
        "    \"Tienda 1\": {\n",
        "        \"ingresos\": Ingresos_totales_tienda1,\n",
        "        \"categoria_popular\": CategoriaMasVendida1,\n",
        "        \"ventas_categoria_popular\": CantidadVendida1,\n",
        "        \"calificacion\": promedioTienda1,\n",
        "        \"producto_popular\": VentasXProductoTienda1.idxmax(),\n",
        "        \"ventas_producto_popular\": VentasXProductoTienda1.max()\n",
        "    },\n",
        "    \"Tienda 2\": {\n",
        "        \"ingresos\": Ingresos_totales_tienda2,\n",
        "        \"categoria_popular\": CategoriaMasVendida2,\n",
        "        \"ventas_categoria_popular\": CantidadVendida2,\n",
        "        \"calificacion\": promedioTienda2,\n",
        "        \"producto_popular\": VentasXProductoTienda2.idxmax(),\n",
        "        \"ventas_producto_popular\": VentasXProductoTienda2.max()\n",
        "    },\n",
        "    \"Tienda 3\": {\n",
        "        \"ingresos\": Ingresos_totales_tienda3,\n",
        "        \"categoria_popular\": CategoriaMasVendida3,\n",
        "        \"ventas_categoria_popular\": CantidadVendida3,\n",
        "        \"calificacion\": promedioTienda3,\n",
        "        \"producto_popular\": VentasXProductoTienda3.idxmax(),\n",
        "        \"ventas_producto_popular\": VentasXProductoTienda3.max()\n",
        "    },\n",
        "    \"Tienda 4\": {\n",
        "        \"ingresos\": Ingresos_totales_tienda4,\n",
        "        \"categoria_popular\": CategoriaMasVendida4,\n",
        "        \"ventas_categoria_popular\": CantidadVendida4,\n",
        "        \"calificacion\": promedioTienda4,\n",
        "        \"producto_popular\": VentasXProductoTienda4.idxmax(),\n",
        "        \"ventas_producto_popular\": VentasXProductoTienda4.max()\n",
        "    }\n",
        "}"
      ],
      "metadata": {
        "id": "yG02L8AJHR3X"
      },
      "execution_count": 56,
      "outputs": []
    },
    {
      "cell_type": "markdown",
      "source": [
        "Grafico para visualizar facilmente tienda con mas y menos ventas"
      ],
      "metadata": {
        "id": "LzeaRK3qBvQL"
      }
    },
    {
      "cell_type": "code",
      "source": [
        "import matplotlib.pyplot as plt\n",
        "ingresos_tiendas=[datos_tienda[tienda]['ingresos'] for tienda in datos_tienda]\n",
        "maxIngresos= max(ingresos_tiendas)\n",
        "minIngresos= min(ingresos_tiendas)\n",
        "coloresIngresos= []\n",
        "for ingreso in ingresos_tiendas:\n",
        "  if ingreso == maxIngresos:\n",
        "    coloresIngresos.append(\"green\")\n",
        "  elif ingreso == minIngresos:\n",
        "    coloresIngresos.append(\"red\")\n",
        "  else:\n",
        "    coloresIngresos.append(\"grey\")\n",
        "\n",
        "fig, ax = plt.subplots(figsize=(8,6))\n",
        "print(ingresos_tiendas)\n",
        "bars= ax.bar(datos_tienda.keys(),ingresos_tiendas , color=coloresIngresos)\n",
        "\n",
        "ax.set_ylabel(\"Ingresos\")\n",
        "ax.set_title(\"Ingresos Totales por tienda\")\n",
        "ax.set_ylim(0, maxIngresos * 1.1)\n",
        "for bar in bars:\n",
        "    altura = bar.get_height()\n",
        "    x = bar.get_x() + bar.get_width() / 2\n",
        "    y = altura + maxIngresos * 0.01\n",
        "    texto = f\"${int(altura):,}\"\n",
        "\n",
        "    ax.text(x, y, texto, ha='center', va='bottom', fontsize=10)\n",
        "plt.show()"
      ],
      "metadata": {
        "colab": {
          "base_uri": "https://localhost:8080/",
          "height": 562
        },
        "id": "BV-4LvFLq-WG",
        "outputId": "5065c1d6-9fa7-44d2-d77b-1c1a02de0228"
      },
      "execution_count": 100,
      "outputs": [
        {
          "output_type": "stream",
          "name": "stdout",
          "text": [
            "[1150880400.0, 1116343500.0, 1098019600.0, 1038375700.0]\n"
          ]
        },
        {
          "output_type": "display_data",
          "data": {
            "text/plain": [
              "<Figure size 800x600 with 1 Axes>"
            ],
            "image/png": "[encoded data removed]"
          },
          "metadata": {}
        }
      ]
    },
    {
      "cell_type": "markdown",
      "source": [
        "Grafico para ver puntuacion por tiendas, ordenadas de mejor a peor. La peor requiere atencion, para tomar decisiones"
      ],
      "metadata": {
        "id": "KlxgKzVeCEmW"
      }
    },
    {
      "cell_type": "code",
      "source": [
        "fig, ax = plt.subplots()\n",
        "promedio_tiendas=[datos_tienda[tienda][\"calificacion\"] for tienda in datos_tienda]\n",
        "promedio_tiendas.sort(reverse=False)\n",
        "\n",
        "\n",
        "ax.barh(datos_tienda.keys(),promedio_tiendas)\n",
        "ax.set_ylabel(\"Tiendas\")\n",
        "ax.set_title(\"Calificacion Promedio por tienda\")\n",
        "ax.set_xlim(3.5,4.5)\n",
        "plt.show()"
      ],
      "metadata": {
        "colab": {
          "base_uri": "https://localhost:8080/",
          "height": 452
        },
        "id": "qezDseF5DAJi",
        "outputId": "cd31be87-03f8-410a-bb4e-f6d28f5d1fbe"
      },
      "execution_count": 120,
      "outputs": [
        {
          "output_type": "display_data",
          "data": {
            "text/plain": [
              "<Figure size 640x480 with 1 Axes>"
            ],
            "image/png": "[encoded data removed]"
          },
          "metadata": {}
        }
      ]
    },
    {
      "cell_type": "code",
      "source": [],
      "metadata": {
        "id": "Y1ntjDbzD5Kf"
      },
      "execution_count": null,
      "outputs": []
    }
  ]
}